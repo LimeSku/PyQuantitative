{
 "cells": [
  {
   "cell_type": "code",
   "execution_count": 2,
   "metadata": {},
   "outputs": [],
   "source": [
    "from useful.getAssets import CC_DATABASE_INTERFACE\n",
    "cryptocurrency_db = CC_DATABASE_INTERFACE()"
   ]
  },
  {
   "cell_type": "code",
   "execution_count": 12,
   "metadata": {},
   "outputs": [
    {
     "data": {
      "text/html": [
       "<div>\n",
       "<style scoped>\n",
       "    .dataframe tbody tr th:only-of-type {\n",
       "        vertical-align: middle;\n",
       "    }\n",
       "\n",
       "    .dataframe tbody tr th {\n",
       "        vertical-align: top;\n",
       "    }\n",
       "\n",
       "    .dataframe thead th {\n",
       "        text-align: right;\n",
       "    }\n",
       "</style>\n",
       "<table border=\"1\" class=\"dataframe\">\n",
       "  <thead>\n",
       "    <tr style=\"text-align: right;\">\n",
       "      <th></th>\n",
       "      <th>MC</th>\n",
       "      <th>RACE</th>\n",
       "      <th>TTE</th>\n",
       "      <th>SHOP</th>\n",
       "      <th>NVDA</th>\n",
       "      <th>NKE</th>\n",
       "    </tr>\n",
       "    <tr>\n",
       "      <th>date</th>\n",
       "      <th></th>\n",
       "      <th></th>\n",
       "      <th></th>\n",
       "      <th></th>\n",
       "      <th></th>\n",
       "      <th></th>\n",
       "    </tr>\n",
       "  </thead>\n",
       "  <tbody>\n",
       "    <tr>\n",
       "      <th>2023-01-03</th>\n",
       "      <td>38.97</td>\n",
       "      <td>215.37</td>\n",
       "      <td>61.44</td>\n",
       "      <td>35.68</td>\n",
       "      <td>143.15</td>\n",
       "      <td>118.75</td>\n",
       "    </tr>\n",
       "    <tr>\n",
       "      <th>2023-01-04</th>\n",
       "      <td>39.89</td>\n",
       "      <td>219.67</td>\n",
       "      <td>61.08</td>\n",
       "      <td>37.54</td>\n",
       "      <td>147.49</td>\n",
       "      <td>121.21</td>\n",
       "    </tr>\n",
       "    <tr>\n",
       "      <th>2023-01-05</th>\n",
       "      <td>41.20</td>\n",
       "      <td>216.08</td>\n",
       "      <td>61.11</td>\n",
       "      <td>35.95</td>\n",
       "      <td>142.65</td>\n",
       "      <td>120.62</td>\n",
       "    </tr>\n",
       "    <tr>\n",
       "      <th>2023-01-06</th>\n",
       "      <td>42.44</td>\n",
       "      <td>224.08</td>\n",
       "      <td>61.83</td>\n",
       "      <td>36.85</td>\n",
       "      <td>148.59</td>\n",
       "      <td>124.53</td>\n",
       "    </tr>\n",
       "    <tr>\n",
       "      <th>2023-01-09</th>\n",
       "      <td>42.84</td>\n",
       "      <td>228.77</td>\n",
       "      <td>62.23</td>\n",
       "      <td>37.19</td>\n",
       "      <td>156.28</td>\n",
       "      <td>124.85</td>\n",
       "    </tr>\n",
       "    <tr>\n",
       "      <th>...</th>\n",
       "      <td>...</td>\n",
       "      <td>...</td>\n",
       "      <td>...</td>\n",
       "      <td>...</td>\n",
       "      <td>...</td>\n",
       "      <td>...</td>\n",
       "    </tr>\n",
       "    <tr>\n",
       "      <th>2023-10-26</th>\n",
       "      <td>40.43</td>\n",
       "      <td>297.11</td>\n",
       "      <td>65.65</td>\n",
       "      <td>46.69</td>\n",
       "      <td>403.26</td>\n",
       "      <td>100.02</td>\n",
       "    </tr>\n",
       "    <tr>\n",
       "      <th>2023-10-27</th>\n",
       "      <td>39.91</td>\n",
       "      <td>298.24</td>\n",
       "      <td>66.27</td>\n",
       "      <td>46.40</td>\n",
       "      <td>405.00</td>\n",
       "      <td>97.98</td>\n",
       "    </tr>\n",
       "    <tr>\n",
       "      <th>2023-10-30</th>\n",
       "      <td>40.21</td>\n",
       "      <td>299.39</td>\n",
       "      <td>66.95</td>\n",
       "      <td>46.92</td>\n",
       "      <td>411.61</td>\n",
       "      <td>101.80</td>\n",
       "    </tr>\n",
       "    <tr>\n",
       "      <th>2023-10-31</th>\n",
       "      <td>41.64</td>\n",
       "      <td>301.64</td>\n",
       "      <td>66.60</td>\n",
       "      <td>47.19</td>\n",
       "      <td>407.80</td>\n",
       "      <td>102.77</td>\n",
       "    </tr>\n",
       "    <tr>\n",
       "      <th>2023-11-01</th>\n",
       "      <td>42.60</td>\n",
       "      <td>304.98</td>\n",
       "      <td>67.05</td>\n",
       "      <td>48.79</td>\n",
       "      <td>423.25</td>\n",
       "      <td>100.88</td>\n",
       "    </tr>\n",
       "  </tbody>\n",
       "</table>\n",
       "<p>210 rows × 6 columns</p>\n",
       "</div>"
      ],
      "text/plain": [
       "               MC    RACE    TTE   SHOP    NVDA     NKE\n",
       "date                                                   \n",
       "2023-01-03  38.97  215.37  61.44  35.68  143.15  118.75\n",
       "2023-01-04  39.89  219.67  61.08  37.54  147.49  121.21\n",
       "2023-01-05  41.20  216.08  61.11  35.95  142.65  120.62\n",
       "2023-01-06  42.44  224.08  61.83  36.85  148.59  124.53\n",
       "2023-01-09  42.84  228.77  62.23  37.19  156.28  124.85\n",
       "...           ...     ...    ...    ...     ...     ...\n",
       "2023-10-26  40.43  297.11  65.65  46.69  403.26  100.02\n",
       "2023-10-27  39.91  298.24  66.27  46.40  405.00   97.98\n",
       "2023-10-30  40.21  299.39  66.95  46.92  411.61  101.80\n",
       "2023-10-31  41.64  301.64  66.60  47.19  407.80  102.77\n",
       "2023-11-01  42.60  304.98  67.05  48.79  423.25  100.88\n",
       "\n",
       "[210 rows x 6 columns]"
      ]
     },
     "execution_count": 12,
     "metadata": {},
     "output_type": "execute_result"
    }
   ],
   "source": [
    "import pandas as pd\n",
    "ASSETS = [\"MC\",\"RACE\",\"TTE\",\"SHOP\",\"NVDA\",\"NKE\"] # asset's list used in the program\n",
    "PERIOD = (\"2023-01-01\",\"2023-11-01\")\n",
    "assetsData =[]\n",
    "assetsPrices = pd.DataFrame()\n",
    "for asset in ASSETS:\n",
    "    assetData = cryptocurrency_db.getAssetData(asset,*PERIOD)\n",
    "    assetDf = pd.DataFrame(assetData)\n",
    "    assetDf = assetDf.set_index(\"date\")\n",
    "    assetDf = assetDf.set_index(pd.DatetimeIndex(assetDf.index))\n",
    "\n",
    "    assetsPrices[asset] = assetDf[\"close\"]\n",
    "    assetsData.append(assetDf)\n",
    "# assetsData[0].head()\n",
    "assetsPrices"
   ]
  },
  {
   "cell_type": "code",
   "execution_count": 4,
   "metadata": {},
   "outputs": [],
   "source": [
    "import random\n",
    "def generateWeights(n):\n",
    "    nombres = [0]\n",
    "    for _ in range(n-1):\n",
    "        nombres.append(random.uniform(0, 1-sum(nombres)))\n",
    "    nombres.append(1-sum(nombres))\n",
    "    return nombres[1:]"
   ]
  },
  {
   "cell_type": "code",
   "execution_count": 5,
   "metadata": {},
   "outputs": [
    {
     "name": "stdout",
     "output_type": "stream",
     "text": [
      "Portfolio's performance :\n",
      "\n",
      "Expected returns : 0.08343400159841288% (Daily)\t20.11739652186428% (Yearly)\n",
      "Volatility : 1.920029355321963% Daily\t30.47952110475351% Yearly\n",
      "Sharpe : 0.04345454477930215 (Daily)\t0.6600299411766946 (Yearly)\n"
     ]
    }
   ],
   "source": [
    "import numpy as np\n",
    "\n",
    "weights = generateWeights(len(ASSETS))\n",
    "\n",
    "dictWeights = {asset:weight for asset,weight in zip(ASSETS,weights)}\n",
    "\n",
    "assets_returns = assetsPrices.pct_change().dropna()\n",
    "\n",
    "# daily\n",
    "expected_returns = assets_returns.mean()\n",
    "returns_cov = assets_returns.cov()\n",
    "variance = np.transpose(weights)@returns_cov@weights\n",
    "risk = np.sqrt(variance)\n",
    "\n",
    "pf_expected_return = weights@expected_returns\n",
    "pf_variance = np.transpose(weights)@returns_cov@weights\n",
    "pf_risk = np.sqrt(pf_variance)\n",
    "pf_sharpe = pf_expected_return/pf_risk\n",
    "\n",
    "# YEARLY\n",
    "# returns cumulative annualisés en mul par la puissance 252/nb de rows\n",
    "ytd_exp_returns = (assets_returns+1).prod() ** (252/assets_returns.count()) -1\n",
    "ytd_returns_cov = returns_cov*252\n",
    "ytd_variance = np.transpose(weights)@ytd_returns_cov@weights\n",
    "ytd_risk = np.sqrt(ytd_variance)\n",
    "\n",
    "ytd_pf_expected_return = weights@ytd_exp_returns\n",
    "ytd_pf_var= np.transpose(weights)@ytd_returns_cov@weights\n",
    "ytd_pf_risk = np.sqrt(ytd_pf_var)\n",
    "ytd_pf_sr = (ytd_pf_expected_return)/ytd_pf_risk\n",
    "\n",
    "print(\"Portfolio's performance :\")\n",
    "print(\"\")\n",
    "print(\"Expected returns : {}% (Daily)\\t{}% (Yearly)\".format(pf_expected_return*100,ytd_pf_expected_return*100))\n",
    "print(\"Volatility : {}% Daily\\t{}% Yearly\".format(pf_risk*100,ytd_pf_risk*100))\n",
    "print(\"Sharpe : {} (Daily)\\t{} (Yearly)\".format(pf_sharpe,ytd_pf_sr))\n",
    "# base_portfolio = {\"risk\":pf_risk,\"return\":pf_expected_return}\n",
    "\n"
   ]
  },
  {
   "cell_type": "code",
   "execution_count": 11,
   "metadata": {},
   "outputs": [
    {
     "name": "stdout",
     "output_type": "stream",
     "text": [
      "Expected annual return: 20.1%\n",
      "Annual volatility: 30.5%\n",
      "Sharpe Ratio: 0.66\n",
      "OrderedDict([('MC', 0.0), ('RACE', 0.2074187097257336), ('TTE', 0.0514560002161995), ('SHOP', 0.0), ('NVDA', 0.7411252900580669), ('NKE', 0.0)])\n",
      "Expected annual return: 211.1%\n",
      "Annual volatility: 40.1%\n",
      "Sharpe Ratio: 5.26\n",
      "\n",
      "Expected annual return: 0.1%\n",
      "Annual volatility: 1.9%\n",
      "Sharpe Ratio: 0.04\n"
     ]
    },
    {
     "data": {
      "text/plain": [
       "(0.0008343400159841288, 0.01920029355321963, 0.04345454477930215)"
      ]
     },
     "execution_count": 11,
     "metadata": {},
     "output_type": "execute_result"
    }
   ],
   "source": [
    "import pypfopt\n",
    "\n",
    "mu = pypfopt.expected_returns.mean_historical_return(assetsPrices)\n",
    "S = pypfopt.risk_models.sample_cov(assetsPrices)\n",
    "# en annualisé\n",
    "ef0 = pypfopt.efficient_frontier.EfficientFrontier(mu,S)\n",
    "ef0.set_weights(dictWeights)\n",
    "\n",
    "ef0.portfolio_performance(verbose=True,risk_free_rate=0)\n",
    "print(ef0.max_sharpe(risk_free_rate=0))\n",
    "ef0.portfolio_performance(verbose=True,risk_free_rate=0)\n",
    "\n",
    "print(\"\")\n",
    "# en daily\n",
    "ef = pypfopt.efficient_frontier.EfficientFrontier(assets_returns.mean(),assets_returns.cov())\n",
    "ef.set_weights(dictWeights)\n",
    "ef.portfolio_performance(verbose=True,risk_free_rate=0)"
   ]
  },
  {
   "cell_type": "code",
   "execution_count": 7,
   "metadata": {},
   "outputs": [
    {
     "data": {
      "text/plain": [
       "{'w': [0.8920922355133738,\n",
       "  0.05810545410199317,\n",
       "  0.016598384249085607,\n",
       "  0.003946031346855151,\n",
       "  0.024819743939744274,\n",
       "  0.0044381508489480526],\n",
       " 'exp_returns': 0.20117396521864278,\n",
       " 'risk': 0.3047952110475351,\n",
       " 'sharpe': 0.6600299411766946}"
      ]
     },
     "execution_count": 7,
     "metadata": {},
     "output_type": "execute_result"
    }
   ],
   "source": [
    "def portfolio_perfs(w,assets_returns,freq=252):\n",
    "    \"\"\"\n",
    "    Args:\n",
    "        assets_returns (df): daily returns\n",
    "    \"\"\"\n",
    "    # on annualise\n",
    "    expected_returns = (assets_returns+1).prod() ** (freq/assets_returns.count()) -1\n",
    "    returns_cov_matrix = assets_returns.cov()*freq\n",
    "    \n",
    "    pf_variance = np.transpose(w)@returns_cov_matrix@w\n",
    "    pf_risk = np.sqrt(pf_variance)\n",
    "    \n",
    "    pf_expected_return = w @ expected_returns\n",
    "    pf_sharpe = pf_expected_return/pf_risk\n",
    "    \n",
    "    \n",
    "    return {\"w\":w,\"exp_returns\":pf_expected_return,\"risk\":pf_risk,\"sharpe\":pf_sharpe}\n",
    "\n",
    "portfolio_perfs(weights,assets_returns)"
   ]
  },
  {
   "cell_type": "code",
   "execution_count": 8,
   "metadata": {},
   "outputs": [],
   "source": [
    "# générer pleins de portefeuilles avec Monte Carlo\n",
    "\n",
    "generated_weights = []\n",
    "generated_portfolios = []\n",
    "\n",
    "nbIteration = 5000\n",
    "for iteration in range(nbIteration):\n",
    "    randomWeights = generateWeights(len(ASSETS))\n",
    "    generated_weights.append(randomWeights)\n",
    "    \n",
    "    performances = portfolio_perfs(randomWeights,assets_returns)\n",
    "    generated_portfolios.append(performances)"
   ]
  },
  {
   "cell_type": "code",
   "execution_count": 9,
   "metadata": {},
   "outputs": [],
   "source": [
    "best_pf = max(generated_portfolios,key = lambda x:x[\"sharpe\"])\n",
    "# best_pf\n",
    "cw = ef0.clean_weights().values()\n",
    "alt_best_pf = portfolio_perfs(list(cw),assets_returns)\n",
    "# alt_best_pf\n"
   ]
  },
  {
   "cell_type": "code",
   "execution_count": 10,
   "metadata": {},
   "outputs": [
    {
     "data": {
      "text/plain": [
       "Text(0.5, 1.0, 'generation of the effiency frontier - 5000 iterations')"
      ]
     },
     "execution_count": 10,
     "metadata": {},
     "output_type": "execute_result"
    },
    {
     "data": {
      "image/png": "[encoded data removed]",
      "text/plain": [
       "<Figure size 640x480 with 1 Axes>"
      ]
     },
     "metadata": {},
     "output_type": "display_data"
    }
   ],
   "source": [
    "import matplotlib.pyplot as plt\n",
    "df = pd.DataFrame(generated_portfolios)\n",
    "plt.scatter(df[\"risk\"]*100,df[\"exp_returns\"]*100,s=1)\n",
    "# plt.scatter(base_portfolio[\"risk\"],base_portfolio[\"return\"],s=6)\n",
    "plt.scatter(best_pf[\"risk\"]*100,best_pf[\"exp_returns\"]*100,s=10,c=\"red\")\n",
    "plt.scatter(alt_best_pf[\"risk\"]*100,alt_best_pf[\"exp_returns\"]*100,s=10,c=\"red\")\n",
    "plt.xlabel(\"risk\")\n",
    "plt.ylabel(\"exp return\")\n",
    "plt.title(\"generation of the effiency frontier - \"+str(nbIteration)+\" iterations\")"
   ]
  },
  {
   "cell_type": "code",
   "execution_count": null,
   "metadata": {},
   "outputs": [],
   "source": []
  },
  {
   "cell_type": "code",
   "execution_count": null,
   "metadata": {},
   "outputs": [],
   "source": []
  }
 ],
 "metadata": {
  "kernelspec": {
   "display_name": "quantenv",
   "language": "python",
   "name": "python3"
  },
  "language_info": {
   "codemirror_mode": {
    "name": "ipython",
    "version": 3
   },
   "file_extension": ".py",
   "mimetype": "text/x-python",
   "name": "python",
   "nbconvert_exporter": "python",
   "pygments_lexer": "ipython3",
   "version": "3.11.3"
  }
 },
 "nbformat": 4,
 "nbformat_minor": 2
}
