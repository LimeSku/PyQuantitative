{
 "cells": [
  {
   "cell_type": "code",
   "execution_count": 387,
   "metadata": {},
   "outputs": [],
   "source": [
    "from useful.getAssets import CC_DATABASE_INTERFACE\n",
    "cryptocurrency_db = CC_DATABASE_INTERFACE()"
   ]
  },
  {
   "cell_type": "code",
   "execution_count": 388,
   "metadata": {},
   "outputs": [],
   "source": [
    "import pandas as pd\n",
    "ASSETS = [\"MC\",\"RACE\",\"TTE\",\"SHOP\",\"NVDA\",\"NKE\"] # asset's list used in the program\n",
    "PERIOD = (\"2023-01-01\",\"2023-11-01\")\n",
    "assetsData =[]\n",
    "assetsPrices = pd.DataFrame()\n",
    "for asset in ASSETS:\n",
    "    assetData = cryptocurrency_db.getAssetData(asset,*PERIOD)\n",
    "    assetDf = pd.DataFrame(assetData)\n",
    "    assetDf = assetDf.set_index(\"date\")\n",
    "    assetDf = assetDf.set_index(pd.DatetimeIndex(assetDf.index))\n",
    "\n",
    "    assetsPrices[asset] = assetDf[\"close\"]\n",
    "    assetsData.append(assetDf)\n",
    "# assetsData[0].head()\n",
    "# assetsPrices.head()"
   ]
  },
  {
   "cell_type": "code",
   "execution_count": 389,
   "metadata": {},
   "outputs": [],
   "source": [
    "import random\n",
    "def generateWeights(n):\n",
    "    nombres = [0]\n",
    "    for _ in range(n-1):\n",
    "        nombres.append(random.uniform(0, 1-sum(nombres)))\n",
    "    nombres.append(1-sum(nombres))\n",
    "    return nombres[1:]"
   ]
  },
  {
   "cell_type": "code",
   "execution_count": 390,
   "metadata": {},
   "outputs": [
    {
     "name": "stdout",
     "output_type": "stream",
     "text": [
      "Portfolio's performance :\n",
      "\n",
      "Expected returns : 0.15316062692208418% (Daily)\t44.66219882287514% (Yearly)\n",
      "Volatility : 1.1580453330966218% Daily\t18.383399749875707% Yearly\n",
      "Sharpe : 0.13225788537356437 (Daily)\t2.429485265541109 (Yearly)\n"
     ]
    }
   ],
   "source": [
    "import numpy as np\n",
    "\n",
    "weights = generateWeights(len(ASSETS))\n",
    "\n",
    "dictWeights = {asset:weight for asset,weight in zip(ASSETS,weights)}\n",
    "\n",
    "assets_returns = assetsPrices.pct_change().dropna()\n",
    "\n",
    "# daily\n",
    "expected_returns = assets_returns.mean()\n",
    "returns_cov = assets_returns.cov()\n",
    "variance = np.transpose(weights)@returns_cov@weights\n",
    "risk = np.sqrt(variance)\n",
    "\n",
    "pf_expected_return = weights@expected_returns\n",
    "pf_variance = np.transpose(weights)@returns_cov@weights\n",
    "pf_risk = np.sqrt(pf_variance)\n",
    "pf_sharpe = pf_expected_return/pf_risk\n",
    "\n",
    "# YEARLY\n",
    "# returns cumulative annualisés en mul par la puissance 252/nb de rows\n",
    "ytd_exp_returns = (assets_returns+1).prod() ** (252/assets_returns.count()) -1\n",
    "ytd_returns_cov = returns_cov*252\n",
    "ytd_variance = np.transpose(weights)@ytd_returns_cov@weights\n",
    "ytd_risk = np.sqrt(ytd_variance)\n",
    "\n",
    "ytd_pf_expected_return = weights@ytd_exp_returns\n",
    "ytd_pf_var= np.transpose(weights)@ytd_returns_cov@weights\n",
    "ytd_pf_risk = np.sqrt(ytd_pf_var)\n",
    "ytd_pf_sr = (ytd_pf_expected_return)/ytd_pf_risk\n",
    "\n",
    "print(\"Portfolio's performance :\")\n",
    "print(\"\")\n",
    "print(\"Expected returns : {}% (Daily)\\t{}% (Yearly)\".format(pf_expected_return*100,ytd_pf_expected_return*100))\n",
    "print(\"Volatility : {}% Daily\\t{}% Yearly\".format(pf_risk*100,ytd_pf_risk*100))\n",
    "print(\"Sharpe : {} (Daily)\\t{} (Yearly)\".format(pf_sharpe,ytd_pf_sr))\n",
    "# base_portfolio = {\"risk\":pf_risk,\"return\":pf_expected_return}\n",
    "\n"
   ]
  },
  {
   "cell_type": "code",
   "execution_count": 398,
   "metadata": {},
   "outputs": [
    {
     "name": "stdout",
     "output_type": "stream",
     "text": [
      "Expected annual return: 44.7%\n",
      "Annual volatility: 18.4%\n",
      "Sharpe Ratio: 2.43\n",
      "OrderedDict([('MC', 0.0), ('RACE', 0.2074187097257336), ('TTE', 0.0514560002161995), ('SHOP', 0.0), ('NVDA', 0.7411252900580669), ('NKE', 0.0)])\n",
      "Expected annual return: 211.1%\n",
      "Annual volatility: 40.1%\n",
      "Sharpe Ratio: 5.26\n",
      "\n",
      "Expected annual return: 0.2%\n",
      "Annual volatility: 1.2%\n",
      "Sharpe Ratio: -1.59\n"
     ]
    },
    {
     "data": {
      "text/plain": [
       "(0.0015316062692208418, 0.011580453330966219, -1.5947902213287743)"
      ]
     },
     "execution_count": 398,
     "metadata": {},
     "output_type": "execute_result"
    }
   ],
   "source": [
    "import pypfopt\n",
    "\n",
    "mu = pypfopt.expected_returns.mean_historical_return(assetsPrices)\n",
    "S = pypfopt.risk_models.sample_cov(assetsPrices)\n",
    "# en annualisé\n",
    "ef0 = pypfopt.efficient_frontier.EfficientFrontier(mu,S)\n",
    "ef0.set_weights(dictWeights)\n",
    "\n",
    "ef0.portfolio_performance(verbose=True,risk_free_rate=0)\n",
    "print(ef0.max_sharpe(risk_free_rate=0))\n",
    "ef0.portfolio_performance(verbose=True,risk_free_rate=0)\n",
    "\n",
    "print(\"\")\n",
    "# en daily\n",
    "ef = pypfopt.efficient_frontier.EfficientFrontier(assets_returns.mean(),assets_returns.cov())\n",
    "ef.set_weights(dictWeights)\n",
    "ef.portfolio_performance(verbose=True)"
   ]
  },
  {
   "cell_type": "code",
   "execution_count": 392,
   "metadata": {},
   "outputs": [
    {
     "data": {
      "text/plain": [
       "{'w': [0.11541906587697215,\n",
       "  0.7937981125747623,\n",
       "  0.07706644653917047,\n",
       "  0.0056163335197274965,\n",
       "  0.0035359305222010685,\n",
       "  0.004564110967166579],\n",
       " 'exp_returns': 0.44662198822875143,\n",
       " 'risk': 0.18383399749875706,\n",
       " 'sharpe': 2.429485265541109}"
      ]
     },
     "execution_count": 392,
     "metadata": {},
     "output_type": "execute_result"
    }
   ],
   "source": [
    "def portfolio_perfs(w,assets_returns,freq=252):\n",
    "    \"\"\"\n",
    "    Args:\n",
    "        assets_returns (df): daily returns\n",
    "    \"\"\"\n",
    "    # on annualise\n",
    "    expected_returns = (assets_returns+1).prod() ** (freq/assets_returns.count()) -1\n",
    "    returns_cov_matrix = assets_returns.cov()*freq\n",
    "    \n",
    "    pf_variance = np.transpose(w)@returns_cov_matrix@w\n",
    "    pf_risk = np.sqrt(pf_variance)\n",
    "    \n",
    "    pf_expected_return = w @ expected_returns\n",
    "    pf_sharpe = pf_expected_return/pf_risk\n",
    "    \n",
    "    \n",
    "    return {\"w\":w,\"exp_returns\":pf_expected_return,\"risk\":pf_risk,\"sharpe\":pf_sharpe}\n",
    "\n",
    "portfolio_perfs(weights,assets_returns)"
   ]
  },
  {
   "cell_type": "code",
   "execution_count": 393,
   "metadata": {},
   "outputs": [],
   "source": [
    "# générer pleins de portefeuilles avec Monte Carlo\n",
    "\n",
    "generated_weights = []\n",
    "generated_portfolios = []\n",
    "\n",
    "nbIteration = 5000\n",
    "for iteration in range(nbIteration):\n",
    "    randomWeights = generateWeights(len(ASSETS))\n",
    "    generated_weights.append(randomWeights)\n",
    "    \n",
    "    performances = portfolio_perfs(randomWeights,assets_returns)\n",
    "    generated_portfolios.append(performances)"
   ]
  },
  {
   "cell_type": "code",
   "execution_count": 405,
   "metadata": {},
   "outputs": [],
   "source": [
    "best_pf = max(generated_portfolios,key = lambda x:x[\"sharpe\"])\n",
    "# best_pf\n",
    "cw = ef0.clean_weights().values()\n",
    "alt_best_pf = portfolio_perfs(list(cw),assets_returns)\n",
    "# alt_best_pf\n"
   ]
  },
  {
   "cell_type": "code",
   "execution_count": 406,
   "metadata": {},
   "outputs": [
    {
     "data": {
      "text/plain": [
       "Text(0.5, 1.0, 'generation of the effiency frontier - 5000 iterations')"
      ]
     },
     "execution_count": 406,
     "metadata": {},
     "output_type": "execute_result"
    },
    {
     "data": {
      "image/png": "[encoded data removed]",
      "text/plain": [
       "<Figure size 640x480 with 1 Axes>"
      ]
     },
     "metadata": {},
     "output_type": "display_data"
    }
   ],
   "source": [
    "import matplotlib.pyplot as plt\n",
    "df = pd.DataFrame(generated_portfolios)\n",
    "plt.scatter(df[\"risk\"]*100,df[\"exp_returns\"]*100,s=1)\n",
    "# plt.scatter(base_portfolio[\"risk\"],base_portfolio[\"return\"],s=6)\n",
    "plt.scatter(best_pf[\"risk\"]*100,best_pf[\"exp_returns\"]*100,s=10,c=\"red\")\n",
    "plt.scatter(alt_best_pf[\"risk\"]*100,alt_best_pf[\"exp_returns\"]*100,s=10,c=\"red\")\n",
    "plt.xlabel(\"risk\")\n",
    "plt.ylabel(\"exp return\")\n",
    "plt.title(\"generation of the effiency frontier - \"+str(nbIteration)+\" iterations\")"
   ]
  },
  {
   "cell_type": "code",
   "execution_count": null,
   "metadata": {},
   "outputs": [],
   "source": []
  },
  {
   "cell_type": "code",
   "execution_count": null,
   "metadata": {},
   "outputs": [],
   "source": []
  }
 ],
 "metadata": {
  "kernelspec": {
   "display_name": "quantenv",
   "language": "python",
   "name": "python3"
  },
  "language_info": {
   "codemirror_mode": {
    "name": "ipython",
    "version": 3
   },
   "file_extension": ".py",
   "mimetype": "text/x-python",
   "name": "python",
   "nbconvert_exporter": "python",
   "pygments_lexer": "ipython3",
   "version": "3.11.3"
  }
 },
 "nbformat": 4,
 "nbformat_minor": 2
}
